{
 "cells": [
  {
   "cell_type": "markdown",
   "metadata": {},
   "source": [
    "# Problem set 6: Solving the Solow model"
   ]
  },
  {
   "cell_type": "markdown",
   "metadata": {},
   "source": [
    "[<img src=\"https://mybinder.org/badge_logo.svg\">](https://mybinder.org/v2/gh/NumEconCopenhagen/exercises-2019/master?urlpath=lab/tree/PS6/problem_set_6.ipynb)"
   ]
  },
  {
   "cell_type": "code",
   "execution_count": 1,
   "metadata": {},
   "outputs": [],
   "source": [
    "import numpy as np\n",
    "from scipy import linalg\n",
    "from scipy import optimize\n",
    "import sympy as sm\n",
    "import matplotlib.pyplot as plt"
   ]
  },
  {
   "cell_type": "markdown",
   "metadata": {},
   "source": [
    "# Tasks"
   ]
  },
  {
   "cell_type": "markdown",
   "metadata": {},
   "source": [
    "## Solving matrix equations I"
   ]
  },
  {
   "cell_type": "code",
   "execution_count": 2,
   "metadata": {},
   "outputs": [],
   "source": [
    "np.random.seed(1900)\n",
    "n = 5\n",
    "A = np.random.uniform(size=(n,n))\n",
    "b = np.random.uniform(size=n)\n",
    "c = np.random.uniform(size=n)\n",
    "d = np.random.uniform(size=n)"
   ]
  },
  {
   "cell_type": "markdown",
   "metadata": {},
   "source": [
    "**Question A:** Find the determinant of $[A \\cdot A]^{-1}$"
   ]
  },
  {
   "cell_type": "code",
   "execution_count": 3,
   "metadata": {},
   "outputs": [
    {
     "data": {
      "text/plain": [
       "13132.548734461483"
      ]
     },
     "execution_count": 3,
     "metadata": {},
     "output_type": "execute_result"
    }
   ],
   "source": [
    "\n",
    "linalg.det(linalg.inv(A@A))"
   ]
  },
  {
   "cell_type": "markdown",
   "metadata": {},
   "source": [
    "**Answer:**"
   ]
  },
  {
   "cell_type": "code",
   "execution_count": 4,
   "metadata": {},
   "outputs": [
    {
     "name": "stdout",
     "output_type": "stream",
     "text": [
      "13132.548734461483\n"
     ]
    }
   ],
   "source": [
    "X = linalg.det(linalg.inv(A@A))\n",
    "print(X)"
   ]
  },
  {
   "cell_type": "markdown",
   "metadata": {},
   "source": [
    "**Question B:** Solve the following equation systems directly using **scipy**.\n",
    "\n",
    "$$\n",
    "\\begin{aligned}\n",
    "Ax &= b \\\\\n",
    "Ax &= c \\\\\n",
    "Ax &= d \n",
    "\\end{aligned}\n",
    "$$"
   ]
  },
  {
   "cell_type": "code",
   "execution_count": 5,
   "metadata": {},
   "outputs": [
    {
     "name": "stdout",
     "output_type": "stream",
     "text": [
      "b: [-15.33189031 -24.00998148  40.02675108  15.24193293   4.89008792]\n",
      "c: [ -7.72469812 -11.6354722   20.86796131   7.93343031   1.55909328]\n",
      "d: [-2.57374569 -4.00256301  7.93409587  2.56007481  1.25709881]\n"
     ]
    }
   ],
   "source": [
    "for matrix, name in zip([b,c,d],['b','c','d']):\n",
    "    print(f'{name}:',linalg.solve(A,matrix))"
   ]
  },
  {
   "cell_type": "markdown",
   "metadata": {},
   "source": [
    "**Answer:**"
   ]
  },
  {
   "cell_type": "code",
   "execution_count": 6,
   "metadata": {},
   "outputs": [
    {
     "name": "stdout",
     "output_type": "stream",
     "text": [
      "b: [-15.33189031 -24.00998148  40.02675108  15.24193293   4.89008792]\n",
      "c: [ -7.72469812 -11.6354722   20.86796131   7.93343031   1.55909328]\n",
      "d: [-2.57374569 -4.00256301  7.93409587  2.56007481  1.25709881]\n"
     ]
    }
   ],
   "source": [
    "xb = linalg.solve(A,b)\n",
    "xc = linalg.solve(A,c)\n",
    "xd = linalg.solve(A,d)\n",
    "print('b:',xb)\n",
    "print('c:',xc)\n",
    "print('d:',xd)"
   ]
  },
  {
   "cell_type": "markdown",
   "metadata": {},
   "source": [
    "**Question C:** Solve the same equation systems as above using `linalg.lu_factor()` and `linalg.lu_solve()`. What is the benefit of this approach?"
   ]
  },
  {
   "cell_type": "code",
   "execution_count": 7,
   "metadata": {},
   "outputs": [
    {
     "name": "stdout",
     "output_type": "stream",
     "text": [
      "b: [-15.33189031 -24.00998148  40.02675108  15.24193293   4.89008792]\n",
      "c: [ -7.72469812 -11.6354722   20.86796131   7.93343031   1.55909328]\n",
      "d: [-2.57374569 -4.00256301  7.93409587  2.56007481  1.25709881]\n"
     ]
    }
   ],
   "source": [
    "LU,piv = linalg.lu_factor(A) # only done once\n",
    "xb = linalg.lu_solve((LU,piv),b) # much faster than regular solve\n",
    "xc = linalg.lu_solve((LU,piv),c)\n",
    "xd = linalg.lu_solve((LU,piv),d)\n",
    "print('b:',xb)\n",
    "print('c:',xc)\n",
    "print('d:',xd)"
   ]
  },
  {
   "cell_type": "markdown",
   "metadata": {},
   "source": [
    "## Solving matrix equations II"
   ]
  },
  {
   "cell_type": "code",
   "execution_count": 8,
   "metadata": {},
   "outputs": [],
   "source": [
    "F = np.array([[2.0, 1.0, -1.0], [-3.0, -1.0, 2], [-2.0, 1.0, 2.0]])\n",
    "e = np.array([8.0, -11.0, -3.0])"
   ]
  },
  {
   "cell_type": "markdown",
   "metadata": {},
   "source": [
    "**Question:** Use the function `gauss_jordan()` in the `numecon_linalg` module located in this folder to solve\n",
    "\n",
    "$$\n",
    "Fx = e\n",
    "$$"
   ]
  },
  {
   "cell_type": "code",
   "execution_count": 9,
   "metadata": {},
   "outputs": [],
   "source": [
    "import numecon_linalg"
   ]
  },
  {
   "cell_type": "code",
   "execution_count": 10,
   "metadata": {},
   "outputs": [
    {
     "data": {
      "text/plain": [
       "array([ 2.,  3., -1.])"
      ]
     },
     "execution_count": 10,
     "metadata": {},
     "output_type": "execute_result"
    }
   ],
   "source": [
    "Y = np.column_stack((F,e))\n",
    "numecon_linalg.gauss_jordan(Y)\n",
    "Y[:,-1]"
   ]
  },
  {
   "cell_type": "markdown",
   "metadata": {},
   "source": [
    "**Answer:**"
   ]
  },
  {
   "cell_type": "code",
   "execution_count": 11,
   "metadata": {},
   "outputs": [
    {
     "name": "stdout",
     "output_type": "stream",
     "text": [
      "solution [ 2.  3. -1.]\n"
     ]
    }
   ],
   "source": [
    "import numecon_linalg\n",
    "Y = np.column_stack((F,e))\n",
    "numecon_linalg.gauss_jordan(Y)\n",
    "print('solution',Y[:,-1])\n",
    "assert np.allclose(F@Y[:,-1],e)"
   ]
  },
  {
   "cell_type": "markdown",
   "metadata": {},
   "source": [
    "## Symbolic"
   ]
  },
  {
   "cell_type": "code",
   "execution_count": 12,
   "metadata": {},
   "outputs": [],
   "source": [
    "sm.init_printing(use_unicode=True)"
   ]
  },
  {
   "cell_type": "markdown",
   "metadata": {},
   "source": [
    "**Question A:** Find\n",
    "\n",
    "$$\n",
    "\\lim_{x \\rightarrow 0} \\frac{\\sin(x)}{x}\n",
    "$$\n",
    "\n",
    "and\n",
    "\n",
    "$$\n",
    "\\frac{\\partial\\sin(2x)}{\\partial x} \n",
    "$$"
   ]
  },
  {
   "cell_type": "code",
   "execution_count": 13,
   "metadata": {},
   "outputs": [
    {
     "data": {
      "image/png": "[encoded data removed]",
      "text/latex": [
       "$\\displaystyle 1$"
      ],
      "text/plain": [
       "1"
      ]
     },
     "execution_count": 13,
     "metadata": {},
     "output_type": "execute_result"
    }
   ],
   "source": [
    "x = sm.symbols('x')\n",
    "sm.limit((sm.sin(x)/x),x,0)"
   ]
  },
  {
   "cell_type": "code",
   "execution_count": 14,
   "metadata": {},
   "outputs": [
    {
     "data": {
      "image/png": "[encoded data removed]",
      "text/latex": [
       "$\\displaystyle 2 \\cos{\\left(2 x \\right)}$"
      ],
      "text/plain": [
       "2⋅cos(2⋅x)"
      ]
     },
     "execution_count": 14,
     "metadata": {},
     "output_type": "execute_result"
    }
   ],
   "source": [
    "sm.diff(sm.sin(2*x),x)"
   ]
  },
  {
   "cell_type": "markdown",
   "metadata": {},
   "source": [
    "**Answer:**"
   ]
  },
  {
   "cell_type": "code",
   "execution_count": 15,
   "metadata": {
    "jupyter": {
     "source_hidden": true
    }
   },
   "outputs": [
    {
     "name": "stdout",
     "output_type": "stream",
     "text": [
      "the limit is:\n"
     ]
    },
    {
     "data": {
      "image/png": "[encoded data removed]",
      "text/latex": [
       "$\\displaystyle 1$"
      ],
      "text/plain": [
       "1"
      ]
     },
     "execution_count": 15,
     "metadata": {},
     "output_type": "execute_result"
    }
   ],
   "source": [
    "print('the limit is:')\n",
    "x = sm.symbols('x')\n",
    "sm.limit(sm.sin(x)/x,x,0)"
   ]
  },
  {
   "cell_type": "code",
   "execution_count": 16,
   "metadata": {
    "jupyter": {
     "source_hidden": true
    }
   },
   "outputs": [
    {
     "name": "stdout",
     "output_type": "stream",
     "text": [
      "the derivative is\n"
     ]
    },
    {
     "data": {
      "image/png": "[encoded data removed]",
      "text/latex": [
       "$\\displaystyle 2 \\cos{\\left(2 x \\right)}$"
      ],
      "text/plain": [
       "2⋅cos(2⋅x)"
      ]
     },
     "execution_count": 16,
     "metadata": {},
     "output_type": "execute_result"
    }
   ],
   "source": [
    "print('the derivative is')\n",
    "x = sm.symbols('x')\n",
    "sm.diff(sm.sin(2*x),x)"
   ]
  },
  {
   "cell_type": "markdown",
   "metadata": {},
   "source": [
    "**Question B:** Solve the equation\n",
    "\n",
    "$$ \n",
    "\\frac{\\sin(x)}{x} = 0\n",
    "$$"
   ]
  },
  {
   "cell_type": "code",
   "execution_count": 17,
   "metadata": {},
   "outputs": [
    {
     "data": {
      "image/png": "[encoded data removed]",
      "text/latex": [
       "$\\displaystyle \\pi$"
      ],
      "text/plain": [
       "π"
      ]
     },
     "execution_count": 17,
     "metadata": {},
     "output_type": "execute_result"
    }
   ],
   "source": [
    "sm.solve(sm.sin(x)/x,x)[0]"
   ]
  },
  {
   "cell_type": "markdown",
   "metadata": {},
   "source": [
    "**Answer:**"
   ]
  },
  {
   "cell_type": "code",
   "execution_count": 18,
   "metadata": {},
   "outputs": [
    {
     "data": {
      "image/png": "[encoded data removed]",
      "text/latex": [
       "$\\displaystyle \\left[ \\pi\\right]$"
      ],
      "text/plain": [
       "[π]"
      ]
     },
     "execution_count": 18,
     "metadata": {},
     "output_type": "execute_result"
    }
   ],
   "source": [
    "sm.solve(sm.sin(x)/x)"
   ]
  },
  {
   "cell_type": "markdown",
   "metadata": {},
   "source": [
    "# Problem: Solve the Solow model"
   ]
  },
  {
   "cell_type": "markdown",
   "metadata": {},
   "source": [
    "## Introduction"
   ]
  },
  {
   "cell_type": "markdown",
   "metadata": {},
   "source": [
    "Consider the **standard Solow-model** where:\n",
    "\n",
    "1. $K_t$ is capital\n",
    "* $L_t$ is labor (growing with a constant rate of $n$)\n",
    "* $A_t$ is technology (growing with a constant rate of $g$)\n",
    "* $Y_t = F(K_t,A_tL_t)$ is GDP\n",
    "\n",
    "**Saving** is a constant fraction of GDP\n",
    "\n",
    "$$ \n",
    "S_t = sY_t,\\,s\\in(0,1)\n",
    "$$\n",
    "\n",
    "such that **capital accumulates** according to\n",
    "\n",
    "$$\n",
    "K_{t+1}=S_{t}+(1-\\delta)K_{t}=sF(K_{t},A_{t}L_{t})+(1-\\delta)K_{t}, \\delta \\in (0,1)\n",
    "$$\n",
    "\n",
    "The **production function** has **constant-return to scale** such that\n",
    "\n",
    "$$\n",
    "\\frac{Y_{t}}{A_{t}L_{t}}=\\frac{F(K_{t},A_{t}L_{t})}{A_{t}L_{t}}=F(\\tilde{k}_{t},1)\\equiv f(\\tilde{k}_{t})\n",
    "$$\n",
    "\n",
    "where $\\tilde{k}_t = \\frac{K_t}{A_{t}L_{t}}$ is the technology adjusted capital-labor ratio.\n",
    "\n",
    "The **transition equation** then becomes\n",
    "\n",
    "$$\n",
    "\\tilde{k}_{t+1}= \\frac{1}{(1+n)(1+g)}[sf(\\tilde{k}_{t})+(1-\\delta)\\tilde{k}_{t}]\n",
    "$$\n",
    "\n",
    "If the **production function** is **Cobb-Douglas** then\n",
    "\n",
    "$$\n",
    "F(K_{t},A_{t}L_{t})=K_{t}^{\\alpha}(A_{t}L_{t})^{1-\\alpha}\\Rightarrow f(\\tilde{k}_{t})=\\tilde{k}_{t}^{\\alpha}\n",
    "$$\n",
    "\n",
    "If it is **CES** (with $\\beta < 1, \\beta \\neq 0$) then\n",
    "\n",
    "$$\n",
    "F(K_{t},A_{t}L_{t})=(\\alpha K_{t}^{\\beta}+(1-\\alpha)(A_{t}L_{t})^{\\beta})^{\\frac{1}{\\beta}}\\Rightarrow f(\\tilde{k}_{t})=(\\alpha\\tilde{k}_{t}^{\\beta}+(1-\\alpha))^{\\frac{1}{\\beta}}\n",
    "$$"
   ]
  },
  {
   "cell_type": "markdown",
   "metadata": {},
   "source": [
    "## Steady state"
   ]
  },
  {
   "cell_type": "markdown",
   "metadata": {},
   "source": [
    "Assume the production function is **Cobb-Douglas**."
   ]
  },
  {
   "cell_type": "markdown",
   "metadata": {},
   "source": [
    "**Question A:** Use **sympy** to find an analytical expression for the steady state, i.e. solve\n",
    "\n",
    "$$\n",
    "\\tilde{k}^{\\ast}= \\frac{1}{(1+n)(1+g)}[sf(\\tilde{k}^{\\ast})+(1-\\delta)\\tilde{k}^{\\ast}]\n",
    "$$"
   ]
  },
  {
   "cell_type": "code",
   "execution_count": 122,
   "metadata": {},
   "outputs": [],
   "source": [
    "k = sm.symbols('k')\n",
    "alpha = sm.symbols('alpha')\n",
    "delta = sm.symbols('delta')\n",
    "s = sm.symbols('s')\n",
    "g = sm.symbols('g')\n",
    "n = sm.symbols('n')"
   ]
  },
  {
   "cell_type": "code",
   "execution_count": 123,
   "metadata": {},
   "outputs": [
    {
     "data": {
      "image/png": "[encoded data removed]",
      "text/latex": [
       "$\\displaystyle \\left[ \\left(\\frac{\\delta + g n + g + n}{s}\\right)^{\\frac{1}{\\alpha - 1}}\\right]$"
      ],
      "text/plain": [
       "⎡                   1  ⎤\n",
       "⎢                 ─────⎥\n",
       "⎢                 α - 1⎥\n",
       "⎢⎛δ + g⋅n + g + n⎞     ⎥\n",
       "⎢⎜───────────────⎟     ⎥\n",
       "⎣⎝       s       ⎠     ⎦"
      ]
     },
     "execution_count": 123,
     "metadata": {},
     "output_type": "execute_result"
    }
   ],
   "source": [
    "transition = sm.Eq(k,(s*k**alpha+(1-delta)*k)/((1+n)*(1+g)))\n",
    "sm.solve(transition,k)"
   ]
  },
  {
   "cell_type": "markdown",
   "metadata": {},
   "source": [
    "**Answer:**"
   ]
  },
  {
   "cell_type": "code",
   "execution_count": 124,
   "metadata": {},
   "outputs": [
    {
     "data": {
      "image/png": "[encoded data removed]",
      "text/latex": [
       "$\\displaystyle \\left(\\frac{\\delta + g n + g + n}{s}\\right)^{\\frac{1}{\\alpha - 1}}$"
      ],
      "text/plain": [
       "                   1  \n",
       "                 ─────\n",
       "                 α - 1\n",
       "⎛δ + g⋅n + g + n⎞     \n",
       "⎜───────────────⎟     \n",
       "⎝       s       ⎠     "
      ]
     },
     "execution_count": 124,
     "metadata": {},
     "output_type": "execute_result"
    }
   ],
   "source": [
    "f = k**alpha\n",
    "ss = sm.Eq(k,(s*f+(1-delta)*k)/((1+n)*(1+g)))\n",
    "kss = sm.solve(ss,k)[0]\n",
    "kss"
   ]
  },
  {
   "cell_type": "code",
   "execution_count": 179,
   "metadata": {},
   "outputs": [
    {
     "data": {
      "image/png": "[encoded data removed]",
      "text/latex": [
       "$\\displaystyle \\beta$"
      ],
      "text/plain": [
       "β"
      ]
     },
     "execution_count": 179,
     "metadata": {},
     "output_type": "execute_result"
    }
   ],
   "source": [
    "beta = sm.symbols('beta')\n",
    "beta"
   ]
  },
  {
   "cell_type": "code",
   "execution_count": 180,
   "metadata": {},
   "outputs": [
    {
     "data": {
      "image/png": "[encoded data removed]",
      "text/latex": [
       "$\\displaystyle k = \\frac{k \\left(1 - \\delta\\right) + s \\left(\\alpha k^{\\beta} - \\alpha + 1\\right)^{\\frac{1}{\\beta}}}{\\left(g + 1\\right) \\left(n + 1\\right)}$"
      ],
      "text/plain": [
       "                       ______________\n",
       "                  beta╱    β         \n",
       "    k⋅(1 - δ) + s⋅  ╲╱  α⋅k  - α + 1 \n",
       "k = ─────────────────────────────────\n",
       "             (g + 1)⋅(n + 1)         "
      ]
     },
     "execution_count": 180,
     "metadata": {},
     "output_type": "execute_result"
    }
   ],
   "source": [
    "#beta =-0.2\n",
    "f_CES = (alpha*k**beta+1-alpha)**(1/beta)\n",
    "ss = sm.Eq(k,(s*f_CES+(1-delta)*k)/((1+n)*(1+g)))\n",
    "ss"
   ]
  },
  {
   "cell_type": "code",
   "execution_count": 181,
   "metadata": {},
   "outputs": [
    {
     "data": {
      "image/png": "[encoded data removed]",
      "text/latex": [
       "$\\displaystyle k \\left(\\delta + \\left(g + 1\\right) \\left(n + 1\\right) - 1\\right) = s \\left(\\alpha k^{\\beta} - \\alpha + 1\\right)^{\\frac{1}{\\beta}}$"
      ],
      "text/plain": [
       "                                     ______________\n",
       "                                beta╱    β         \n",
       "k⋅(δ + (g + 1)⋅(n + 1) - 1) = s⋅  ╲╱  α⋅k  - α + 1 "
      ]
     },
     "execution_count": 181,
     "metadata": {},
     "output_type": "execute_result"
    }
   ],
   "source": [
    "ss1 = sm.Eq(k*((1+n)*(1+g)-1+delta),s*f_CES)\n",
    "ss1"
   ]
  },
  {
   "cell_type": "code",
   "execution_count": 182,
   "metadata": {},
   "outputs": [
    {
     "data": {
      "image/png": "[encoded data removed]",
      "text/latex": [
       "$\\displaystyle \\left(\\frac{k \\left(\\delta + \\left(g + 1\\right) \\left(n + 1\\right) - 1\\right)}{s}\\right)^{\\beta} = \\alpha k^{\\beta} - \\alpha + 1$"
      ],
      "text/plain": [
       "                             β               \n",
       "⎛k⋅(δ + (g + 1)⋅(n + 1) - 1)⎞       β        \n",
       "⎜───────────────────────────⎟  = α⋅k  - α + 1\n",
       "⎝             s             ⎠                "
      ]
     },
     "execution_count": 182,
     "metadata": {},
     "output_type": "execute_result"
    }
   ],
   "source": [
    "ss2 = sm.Eq((k*((1+n)*(1+g)-1+delta)/s)**beta,(alpha*k**beta+1-alpha))\n",
    "ss2"
   ]
  },
  {
   "cell_type": "code",
   "execution_count": 183,
   "metadata": {},
   "outputs": [
    {
     "data": {
      "image/png": "[encoded data removed]",
      "text/latex": [
       "$\\displaystyle \\left[ s e^{\\frac{\\log{\\left(\\frac{\\alpha - 1}{\\alpha s^{\\beta} - \\left(\\delta + g n + g + n\\right)^{\\beta}} \\right)}}{\\beta}}\\right]$"
      ],
      "text/plain": [
       "⎡      ⎛          α - 1          ⎞⎤\n",
       "⎢   log⎜─────────────────────────⎟⎥\n",
       "⎢      ⎜   β                    β⎟⎥\n",
       "⎢      ⎝α⋅s  - (δ + g⋅n + g + n) ⎠⎥\n",
       "⎢   ──────────────────────────────⎥\n",
       "⎢                 β               ⎥\n",
       "⎣s⋅ℯ                              ⎦"
      ]
     },
     "execution_count": 183,
     "metadata": {},
     "output_type": "execute_result"
    }
   ],
   "source": [
    "kss2 = sm.solve(ss2,k)\n",
    "kss2"
   ]
  },
  {
   "cell_type": "code",
   "execution_count": 173,
   "metadata": {},
   "outputs": [
    {
     "data": {
      "image/png": "[encoded data removed]",
      "text/latex": [
       "$\\displaystyle \\left[ \\left(\\frac{\\alpha}{\\alpha - 1}\\right)^{- \\frac{1}{\\beta}}, \\  \\left(\\frac{\\alpha - \\left(\\frac{s}{\\delta + g n + g + n}\\right)^{- \\beta}}{\\alpha - 1}\\right)^{- \\frac{1}{\\beta}}\\right]$"
      ],
      "text/plain": [
       "⎡                                     -1 ⎤\n",
       "⎢                                     ───⎥\n",
       "⎢                                      β ⎥\n",
       "⎢       -1   ⎛                     -β⎞   ⎥\n",
       "⎢       ───  ⎜    ⎛       s       ⎞  ⎟   ⎥\n",
       "⎢        β   ⎜α - ⎜───────────────⎟  ⎟   ⎥\n",
       "⎢⎛  α  ⎞     ⎜    ⎝δ + g⋅n + g + n⎠  ⎟   ⎥\n",
       "⎢⎜─────⎟   , ⎜───────────────────────⎟   ⎥\n",
       "⎣⎝α - 1⎠     ⎝         α - 1         ⎠   ⎦"
      ]
     },
     "execution_count": 173,
     "metadata": {},
     "output_type": "execute_result"
    }
   ],
   "source": [
    "beta = sm.symbols('beta',negative=True)\n",
    "f_CES = (alpha*k**beta+1-alpha)**(1/beta)\n",
    "ss = sm.Eq(k,(s*f_CES+(1-delta)*k)/((1+n)*(1+g)))\n",
    "kss = sm.solve(ss,k)\n",
    "kss"
   ]
  },
  {
   "cell_type": "code",
   "execution_count": 172,
   "metadata": {},
   "outputs": [
    {
     "data": {
      "image/png": "[encoded data removed]",
      "text/latex": [
       "$\\displaystyle 1.8471297000972986$"
      ],
      "text/plain": [
       "1.8471297000972986"
      ]
     },
     "execution_count": 172,
     "metadata": {},
     "output_type": "execute_result"
    }
   ],
   "source": [
    "ss_func = sm.lambdify((s,g,n,delta,alpha,beta),kss2[0])\n",
    "ss_func(0.2,0.02,0.01,0.1,1/3,-0.5)"
   ]
  },
  {
   "cell_type": "code",
   "execution_count": 49,
   "metadata": {},
   "outputs": [],
   "source": [
    "from sympy.solvers.solveset import solveset, solveset_real\n",
    "from sympy.solvers.solveset import _solve_exponential as solve_expo"
   ]
  },
  {
   "cell_type": "code",
   "execution_count": 54,
   "metadata": {},
   "outputs": [
    {
     "data": {
      "image/png": "[encoded data removed]",
      "text/latex": [
       "$\\displaystyle \\emptyset$"
      ],
      "text/plain": [
       "∅"
      ]
     },
     "execution_count": 54,
     "metadata": {},
     "output_type": "execute_result"
    }
   ],
   "source": [
    "f_CES = (alpha*k**beta+1-alpha)**(1/beta)\n",
    "ss= (s*f_CES+(1-delta)*k)/((1+n)*(1+g))-k\n",
    "solve_expo(ss2,0,k,sm.S.Reals)"
   ]
  },
  {
   "cell_type": "code",
   "execution_count": null,
   "metadata": {},
   "outputs": [],
   "source": [
    "from sympy.solvers.solveset import nonlinsolve"
   ]
  },
  {
   "cell_type": "code",
   "execution_count": null,
   "metadata": {},
   "outputs": [],
   "source": [
    "eq1 = (beta<1)\n",
    "eq2 = (beta>0)\n",
    "\n",
    "nonlinsolve([ss,eq1,eq2],k)"
   ]
  },
  {
   "cell_type": "code",
   "execution_count": null,
   "metadata": {},
   "outputs": [],
   "source": [
    "ss"
   ]
  },
  {
   "cell_type": "code",
   "execution_count": null,
   "metadata": {},
   "outputs": [],
   "source": [
    "ss_func = sm.lambdify((s,g,n,delta,alpha),kss)\n",
    "ss_func(0.2,0.02,0.01,0.1,1/3)"
   ]
  },
  {
   "cell_type": "code",
   "execution_count": null,
   "metadata": {},
   "outputs": [],
   "source": [
    "1.982233502409577"
   ]
  },
  {
   "cell_type": "code",
   "execution_count": null,
   "metadata": {},
   "outputs": [],
   "source": [
    "new = sm.Eq(f_CES,1)\n",
    "sm.solve(new,k)"
   ]
  },
  {
   "cell_type": "code",
   "execution_count": 27,
   "metadata": {},
   "outputs": [],
   "source": [
    "from sympy.solvers.solveset import _transolve as transolve"
   ]
  },
  {
   "cell_type": "code",
   "execution_count": 36,
   "metadata": {},
   "outputs": [
    {
     "data": {
      "image/png": "[encoded data removed]",
      "text/latex": [
       "$\\displaystyle \\left\\{k \\mid k \\in \\mathbb{R} \\wedge - k + \\frac{k \\left(1 - \\delta\\right) + k^{\\alpha} s}{\\left(g + 1\\right) \\left(n + 1\\right)} = 0 \\right\\}$"
      ],
      "text/plain": [
       "⎧                              α      ⎫\n",
       "⎪                 k⋅(1 - δ) + k ⋅s    ⎪\n",
       "⎨k | k ∊ ℝ ∧ -k + ──────────────── = 0⎬\n",
       "⎪                 (g + 1)⋅(n + 1)     ⎪\n",
       "⎩                                     ⎭"
      ]
     },
     "execution_count": 36,
     "metadata": {},
     "output_type": "execute_result"
    }
   ],
   "source": [
    "f_CES = (alpha*k**0.5+1-alpha)**(1/0.5)\n",
    "ss= (s*f_CES+(1-delta)*k)/((1+n)*(1+g))-k\n",
    "transolve(ss, k,sm.S.Reals)"
   ]
  },
  {
   "cell_type": "code",
   "execution_count": 33,
   "metadata": {},
   "outputs": [
    {
     "name": "stdout",
     "output_type": "stream",
     "text": [
      "Help on function symbols in module sympy.core.symbol:\n",
      "\n",
      "symbols(names, **args)\n",
      "    Transform strings into instances of :class:`Symbol` class.\n",
      "    \n",
      "    :func:`symbols` function returns a sequence of symbols with names taken\n",
      "    from ``names`` argument, which can be a comma or whitespace delimited\n",
      "    string, or a sequence of strings::\n",
      "    \n",
      "        >>> from sympy import symbols, Function\n",
      "    \n",
      "        >>> x, y, z = symbols('x,y,z')\n",
      "        >>> a, b, c = symbols('a b c')\n",
      "    \n",
      "    The type of output is dependent on the properties of input arguments::\n",
      "    \n",
      "        >>> symbols('x')\n",
      "        x\n",
      "        >>> symbols('x,')\n",
      "        (x,)\n",
      "        >>> symbols('x,y')\n",
      "        (x, y)\n",
      "        >>> symbols(('a', 'b', 'c'))\n",
      "        (a, b, c)\n",
      "        >>> symbols(['a', 'b', 'c'])\n",
      "        [a, b, c]\n",
      "        >>> symbols({'a', 'b', 'c'})\n",
      "        {a, b, c}\n",
      "    \n",
      "    If an iterable container is needed for a single symbol, set the ``seq``\n",
      "    argument to ``True`` or terminate the symbol name with a comma::\n",
      "    \n",
      "        >>> symbols('x', seq=True)\n",
      "        (x,)\n",
      "    \n",
      "    To reduce typing, range syntax is supported to create indexed symbols.\n",
      "    Ranges are indicated by a colon and the type of range is determined by\n",
      "    the character to the right of the colon. If the character is a digit\n",
      "    then all contiguous digits to the left are taken as the nonnegative\n",
      "    starting value (or 0 if there is no digit left of the colon) and all\n",
      "    contiguous digits to the right are taken as 1 greater than the ending\n",
      "    value::\n",
      "    \n",
      "        >>> symbols('x:10')\n",
      "        (x0, x1, x2, x3, x4, x5, x6, x7, x8, x9)\n",
      "    \n",
      "        >>> symbols('x5:10')\n",
      "        (x5, x6, x7, x8, x9)\n",
      "        >>> symbols('x5(:2)')\n",
      "        (x50, x51)\n",
      "    \n",
      "        >>> symbols('x5:10,y:5')\n",
      "        (x5, x6, x7, x8, x9, y0, y1, y2, y3, y4)\n",
      "    \n",
      "        >>> symbols(('x5:10', 'y:5'))\n",
      "        ((x5, x6, x7, x8, x9), (y0, y1, y2, y3, y4))\n",
      "    \n",
      "    If the character to the right of the colon is a letter, then the single\n",
      "    letter to the left (or 'a' if there is none) is taken as the start\n",
      "    and all characters in the lexicographic range *through* the letter to\n",
      "    the right are used as the range::\n",
      "    \n",
      "        >>> symbols('x:z')\n",
      "        (x, y, z)\n",
      "        >>> symbols('x:c')  # null range\n",
      "        ()\n",
      "        >>> symbols('x(:c)')\n",
      "        (xa, xb, xc)\n",
      "    \n",
      "        >>> symbols(':c')\n",
      "        (a, b, c)\n",
      "    \n",
      "        >>> symbols('a:d, x:z')\n",
      "        (a, b, c, d, x, y, z)\n",
      "    \n",
      "        >>> symbols(('a:d', 'x:z'))\n",
      "        ((a, b, c, d), (x, y, z))\n",
      "    \n",
      "    Multiple ranges are supported; contiguous numerical ranges should be\n",
      "    separated by parentheses to disambiguate the ending number of one\n",
      "    range from the starting number of the next::\n",
      "    \n",
      "        >>> symbols('x:2(1:3)')\n",
      "        (x01, x02, x11, x12)\n",
      "        >>> symbols(':3:2')  # parsing is from left to right\n",
      "        (00, 01, 10, 11, 20, 21)\n",
      "    \n",
      "    Only one pair of parentheses surrounding ranges are removed, so to\n",
      "    include parentheses around ranges, double them. And to include spaces,\n",
      "    commas, or colons, escape them with a backslash::\n",
      "    \n",
      "        >>> symbols('x((a:b))')\n",
      "        (x(a), x(b))\n",
      "        >>> symbols(r'x(:1\\,:2)')  # or r'x((:1)\\,(:2))'\n",
      "        (x(0,0), x(0,1))\n",
      "    \n",
      "    All newly created symbols have assumptions set according to ``args``::\n",
      "    \n",
      "        >>> a = symbols('a', integer=True)\n",
      "        >>> a.is_integer\n",
      "        True\n",
      "    \n",
      "        >>> x, y, z = symbols('x,y,z', real=True)\n",
      "        >>> x.is_real and y.is_real and z.is_real\n",
      "        True\n",
      "    \n",
      "    Despite its name, :func:`symbols` can create symbol-like objects like\n",
      "    instances of Function or Wild classes. To achieve this, set ``cls``\n",
      "    keyword argument to the desired type::\n",
      "    \n",
      "        >>> symbols('f,g,h', cls=Function)\n",
      "        (f, g, h)\n",
      "    \n",
      "        >>> type(_[0])\n",
      "        <class 'sympy.core.function.UndefinedFunction'>\n",
      "\n"
     ]
    }
   ],
   "source": [
    "help(sm.symbols)"
   ]
  },
  {
   "cell_type": "markdown",
   "metadata": {},
   "source": [
    "**Question B:** Turn you solution into a Python function called as `ss_func(s,g,n,delta,alpha)`. "
   ]
  },
  {
   "cell_type": "code",
   "execution_count": 22,
   "metadata": {},
   "outputs": [
    {
     "data": {
      "image/png": "[encoded data removed]",
      "text/latex": [
       "$\\displaystyle 1.903831539231319$"
      ],
      "text/plain": [
       "1.903831539231319"
      ]
     },
     "execution_count": 22,
     "metadata": {},
     "output_type": "execute_result"
    }
   ],
   "source": [
    "ss_func = sm.lambdify((s,g,n,delta,alpha),sm.solve(transition,k)[0])\n",
    "ss_func(0.2,0.02,0.01,0.1,1/3)"
   ]
  },
  {
   "cell_type": "markdown",
   "metadata": {},
   "source": [
    "**Answer:**"
   ]
  },
  {
   "cell_type": "code",
   "execution_count": 23,
   "metadata": {},
   "outputs": [],
   "source": [
    "ss_func = sm.lambdify((s,g,n,delta,alpha),kss)"
   ]
  },
  {
   "cell_type": "code",
   "execution_count": 24,
   "metadata": {},
   "outputs": [
    {
     "data": {
      "image/png": "[encoded data removed]",
      "text/latex": [
       "$\\displaystyle 1.903831539231319$"
      ],
      "text/plain": [
       "1.903831539231319"
      ]
     },
     "execution_count": 24,
     "metadata": {},
     "output_type": "execute_result"
    }
   ],
   "source": [
    "ss_func(0.2,0.02,0.01,0.1,1/3)"
   ]
  },
  {
   "cell_type": "markdown",
   "metadata": {},
   "source": [
    "**Question C**: Find the steady state numerically."
   ]
  },
  {
   "cell_type": "code",
   "execution_count": 102,
   "metadata": {},
   "outputs": [
    {
     "name": "stdout",
     "output_type": "stream",
     "text": [
      "K_star is 1.90383154138895749341\n",
      "Check:    1.90383154120716469038\n"
     ]
    }
   ],
   "source": [
    "s = 0.2\n",
    "g = 0.02\n",
    "n = 0.01\n",
    "alpha = 1/3\n",
    "delta = 0.1\n",
    "\n",
    "params = {'s':0.2,'g':0.02,'n':0.01,'alpha':1/3,'delta':0.1}\n",
    "\n",
    "transitioneq = lambda k,parms: (params['s']*k**params['alpha']+(1-params['delta'])*k)/((1+params['n'])*(1+params['g']))\n",
    "\n",
    "def ss_num(transitioneq,params,guess=2,rtol=1.0000000000000001e-010,\n",
    "           atol=1e-12,jump=1,max_iter=2000, printit=True):\n",
    "    '''\n",
    "    Finds the steady state(ss) for the transitionseq:\n",
    "    args:\n",
    "        transitioneq (function) : Transition equation to find ss for \n",
    "        params           (dict) : A dictionary with parameters values for the transition equation\n",
    "        guees           (float) : Inital guess\n",
    "        rtol,atol       (float) : Relative and absolut tolerance for np.isclose \n",
    "        jump            (float) : relative size of each jump when making a new guess\n",
    "        max_iter          (int) : Maximum number of iterations\n",
    "        prinit           (Bool) : Whether or not to print the results\n",
    "    \n",
    "    '''\n",
    "    k1= transitioneq(guess,params)\n",
    "    cond = np.isclose(k1,guess,rtol=rtol,atol=atol)\n",
    "    i = 0\n",
    "    while not cond:\n",
    "        i+=1\n",
    "        if i>max_iter:\n",
    "            print('max iterations reached')\n",
    "            break\n",
    "            return None\n",
    "    # Make new guess by guessing the way of the evolution of k, so if kt+1>kt the new guess of k becomes larger\n",
    "        guess += jump*(k1-guess) \n",
    "        k1= transitioneq(guess,params)\n",
    "        cond = np.isclose(k1,guess,rtol=rtol,atol=atol) # Check if kt+1=kt\n",
    "    \n",
    "    if printit:\n",
    "        print(f'K_star is {guess:.20f}')\n",
    "        print(f'Check:    {k1:.20f}')\n",
    "    \n",
    "    return guess\n",
    "\n",
    "kstar = ss_num(transitioneq,params)"
   ]
  },
  {
   "cell_type": "code",
   "execution_count": 103,
   "metadata": {},
   "outputs": [
    {
     "data": {
      "image/png": "[encoded data removed]",
      "text/plain": [
       "<Figure size 432x288 with 1 Axes>"
      ]
     },
     "metadata": {
      "needs_background": "light"
     },
     "output_type": "display_data"
    }
   ],
   "source": [
    "#plot solution\n",
    "ks = np.linspace(0,4,10000)\n",
    "ks1 = [transitioneq(k,params) for k in ks]\n",
    "\n",
    "fig = plt.figure()\n",
    "ax = fig.add_subplot(1,1,1)\n",
    "\n",
    "ax.plot(ks,ks1,label='$k_{t+1}(k_{t})$')\n",
    "ax.plot(ks,ks,ls='--',color='black',label='$k_{t}=k_{t+1}$')\n",
    "ax.plot(kstar,transitioneq(kstar,params),ls='',marker='o',color='blue',label='$k^{*}$')\n",
    "\n",
    "\n",
    "ax.grid(True)\n",
    "plt.legend(loc=\"upper left\")\n",
    "fig.tight_layout()"
   ]
  },
  {
   "cell_type": "markdown",
   "metadata": {},
   "source": [
    "**Answer:**"
   ]
  },
  {
   "cell_type": "code",
   "execution_count": 104,
   "metadata": {},
   "outputs": [
    {
     "name": "stdout",
     "output_type": "stream",
     "text": [
      "the steady state for k is 1.9038315392313185\n"
     ]
    }
   ],
   "source": [
    "f = lambda k: k**alpha\n",
    "obj_kss = lambda kss: kss - (s*f(kss) + (1-delta)*kss)/((1+g)*(1+n))\n",
    "result = optimize.root_scalar(obj_kss,bracket=[0.1,100],method='brentq')\n",
    "\n",
    "print('the steady state for k is',result.root)    "
   ]
  },
  {
   "cell_type": "markdown",
   "metadata": {},
   "source": [
    "**Question D:** Now assume the production function is CES. Find the steady state for $k$ for the various values of $\\beta$ shown below."
   ]
  },
  {
   "cell_type": "markdown",
   "metadata": {},
   "source": [
    "$$\n",
    "F(K_{t},A_{t}L_{t})=(\\alpha K_{t}^{\\beta}+(1-\\alpha)(A_{t}L_{t})^{\\beta})^{\\frac{1}{\\beta}}\\Rightarrow f(\\tilde{k}_{t})=(\\alpha\\tilde{k}_{t}^{\\beta}+(1-\\alpha))^{\\frac{1}{\\beta}}\n",
    "$$"
   ]
  },
  {
   "cell_type": "code",
   "execution_count": 107,
   "metadata": {},
   "outputs": [
    {
     "name": "stdout",
     "output_type": "stream",
     "text": [
      "When beta= -0.50 the steady state for k is 1.847129701923042\n",
      "When beta= -0.25 the steady state for k is 1.873383264875734\n",
      "When beta= -0.10 the steady state for k is 1.891085641935206\n",
      "When beta= -0.05 the steady state for k is 1.897358104639712\n",
      "When beta=  0.05 the steady state for k is 1.910515975173142\n",
      "When beta=  0.10 the steady state for k is 1.917422135156361\n",
      "When beta=  0.25 the steady state for k is 1.939590275709855\n",
      "When beta=  0.50 the steady state for k is 1.982233502409577\n"
     ]
    }
   ],
   "source": [
    "betas = [-0.5,-0.25,-0.1,-0.05,0.05,0.1,0.25,0.5]\n",
    "\n",
    "f = lambda k,params: (params['alpha']*k**params['beta']+(1-params['alpha']))**(1/params['beta'])\n",
    "trans_eq = lambda kss,params:(params['s']*f(kss,params) + (1-params['delta'])*kss)/((1+params['g'])*(1+params['n']))\n",
    "\n",
    "k_stars = np.empty(len(betas))\n",
    "for i,beta in enumerate(betas):\n",
    "    params['beta']=beta\n",
    "    k_stars[i] = ss_num(trans_eq,params, printit=False)\n",
    "\n",
    "    print(f'When beta= {beta:5.2f} the steady state for k is {k_stars[i]:.15f}')  "
   ]
  },
  {
   "cell_type": "code",
   "execution_count": 29,
   "metadata": {},
   "outputs": [
    {
     "data": {
      "image/png": "[encoded data removed]",
      "text/plain": [
       "<Figure size 432x288 with 1 Axes>"
      ]
     },
     "metadata": {
      "needs_background": "light"
     },
     "output_type": "display_data"
    },
    {
     "data": {
      "image/png": "[encoded data removed]",
      "text/plain": [
       "<Figure size 432x288 with 1 Axes>"
      ]
     },
     "metadata": {
      "needs_background": "light"
     },
     "output_type": "display_data"
    },
    {
     "data": {
      "image/png": "[encoded data removed]",
      "text/plain": [
       "<Figure size 432x288 with 1 Axes>"
      ]
     },
     "metadata": {
      "needs_background": "light"
     },
     "output_type": "display_data"
    },
    {
     "data": {
      "image/png": "[encoded data removed]",
      "text/plain": [
       "<Figure size 432x288 with 1 Axes>"
      ]
     },
     "metadata": {
      "needs_background": "light"
     },
     "output_type": "display_data"
    },
    {
     "data": {
      "image/png": "[encoded data removed]",
      "text/plain": [
       "<Figure size 432x288 with 1 Axes>"
      ]
     },
     "metadata": {
      "needs_background": "light"
     },
     "output_type": "display_data"
    },
    {
     "data": {
      "image/png": "[encoded data removed]",
      "text/plain": [
       "<Figure size 432x288 with 1 Axes>"
      ]
     },
     "metadata": {
      "needs_background": "light"
     },
     "output_type": "display_data"
    },
    {
     "data": {
      "image/png": "[encoded data removed]",
      "text/plain": [
       "<Figure size 432x288 with 1 Axes>"
      ]
     },
     "metadata": {
      "needs_background": "light"
     },
     "output_type": "display_data"
    },
    {
     "data": {
      "image/png": "[encoded data removed]",
      "text/plain": [
       "<Figure size 432x288 with 1 Axes>"
      ]
     },
     "metadata": {
      "needs_background": "light"
     },
     "output_type": "display_data"
    }
   ],
   "source": [
    "\n",
    "for beta,k_star in zip(betas,k_stars):\n",
    "    params['beta']=beta\n",
    "    ks = np.linspace(1,3,10000)\n",
    "    ks1 = [trans_eq(k,params) for k in ks]\n",
    "\n",
    "    fig = plt.figure()\n",
    "    ax = fig.add_subplot(1,1,1)\n",
    "\n",
    "    ax.plot(ks,ks1,label='$k_{t+1}(k_{t})$')\n",
    "    ax.plot(ks,ks,ls='--',color='black',label='$k_{t}=k_{t+1}$')\n",
    "    ax.plot(k_star,transitioneq(k_star,params),ls='',marker='o',color='blue',label='$k^{*}$')\n",
    "\n",
    "    ax.grid(True)\n",
    "    plt.title(r'$\\beta=$'+f'{beta}')\n",
    "    plt.legend(loc=\"upper left\")\n",
    "    fig.tight_layout()"
   ]
  },
  {
   "cell_type": "code",
   "execution_count": 30,
   "metadata": {},
   "outputs": [
    {
     "name": "stdout",
     "output_type": "stream",
     "text": [
      "for beta = -0.500 the steady state for k is 1.8471297000972984\n",
      "for beta = -0.250 the steady state for k is 1.873383262758588\n",
      "for beta = -0.100 the steady state for k is 1.8910856397655083\n",
      "for beta = -0.050 the steady state for k is 1.8973581025712736\n",
      "for beta = 0.050 the steady state for k is 1.9105159729244352\n",
      "for beta = 0.100 the steady state for k is 1.917422132817728\n",
      "for beta = 0.250 the steady state for k is 1.9395902733676993\n",
      "for beta = 0.500 the steady state for k is 1.9822334997701418\n"
     ]
    }
   ],
   "source": [
    "for beta in betas:\n",
    "    f = lambda k: (alpha*k**beta + (1-alpha))**(1/beta)\n",
    "    obj_kss = lambda kss: kss - (s*f(kss) + (1-delta)*kss)/((1+g)*(1+n))\n",
    "    result = optimize.root_scalar(obj_kss,bracket=[0.1,100],method='brentq')\n",
    "    print(f'for beta = {beta:.3f} the steady state for k is',result.root)    "
   ]
  }
 ],
 "metadata": {
  "kernelspec": {
   "display_name": "Python 3",
   "language": "python",
   "name": "python3"
  },
  "language_info": {
   "codemirror_mode": {
    "name": "ipython",
    "version": 3
   },
   "file_extension": ".py",
   "mimetype": "text/x-python",
   "name": "python",
   "nbconvert_exporter": "python",
   "pygments_lexer": "ipython3",
   "version": "3.7.4"
  },
  "toc-autonumbering": true
 },
 "nbformat": 4,
 "nbformat_minor": 4
}
