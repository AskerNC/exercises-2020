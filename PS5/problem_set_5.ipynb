{
 "cells": [
  {
   "cell_type": "markdown",
   "metadata": {},
   "source": [
    "# Problem set 5: Writing your own algorithms"
   ]
  },
  {
   "cell_type": "markdown",
   "metadata": {},
   "source": [
    "[<img src=\"https://mybinder.org/badge_logo.svg\">](https://mybinder.org/v2/gh/NumEconCopenhagen/exercises-2020/master?urlpath=lab/tree/PS5/problem_set_5.ipynb)"
   ]
  },
  {
   "cell_type": "markdown",
   "metadata": {},
   "source": [
    "This problem set has no tasks, but only problems of increasing complexity. See how far you can get :)"
   ]
  },
  {
   "cell_type": "code",
   "execution_count": 1,
   "metadata": {},
   "outputs": [],
   "source": [
    "import math\n",
    "import numpy as np"
   ]
  },
  {
   "cell_type": "markdown",
   "metadata": {},
   "source": [
    "# Factorial"
   ]
  },
  {
   "cell_type": "markdown",
   "metadata": {},
   "source": [
    "Remember that the factorial of $n$ is\n",
    "\n",
    "$$\n",
    "n\\cdot(n-1)\\cdot(n-2)\\cdot...\\cdot 1\n",
    "$$\n",
    "\n",
    "**Problem:** Correct the following function so that it returns the factorial of n using *functional recursion*."
   ]
  },
  {
   "cell_type": "code",
   "execution_count": 2,
   "metadata": {},
   "outputs": [
    {
     "name": "stdout",
     "output_type": "stream",
     "text": [
      "120\n"
     ]
    }
   ],
   "source": [
    "def factorial(n):\n",
    "    if n == 1:\n",
    "        return 1\n",
    "    else:\n",
    "        return n * factorial(n-1)\n",
    "    \n",
    "print(factorial(5))"
   ]
  },
  {
   "cell_type": "markdown",
   "metadata": {},
   "source": [
    "**Answer:**"
   ]
  },
  {
   "cell_type": "code",
   "execution_count": 3,
   "metadata": {
    "jupyter": {
     "source_hidden": true
    }
   },
   "outputs": [
    {
     "name": "stdout",
     "output_type": "stream",
     "text": [
      "the factorial of 1 is 1\n",
      "the factorial of 2 is 2\n",
      "the factorial of 3 is 6\n",
      "the factorial of 4 is 24\n",
      "the factorial of 5 is 120\n"
     ]
    }
   ],
   "source": [
    "def factorial(n):\n",
    "    if n == 1:\n",
    "        return 1\n",
    "    else:\n",
    "        return n*factorial(n-1)\n",
    "    \n",
    "for n in [1,2,3,4,5]:\n",
    "    y = factorial(n)\n",
    "    print(f'the factorial of {n} is {y}')\n",
    "    assert(y == math.factorial(n))"
   ]
  },
  {
   "cell_type": "markdown",
   "metadata": {},
   "source": [
    "# Descending bubble sort"
   ]
  },
  {
   "cell_type": "markdown",
   "metadata": {},
   "source": [
    "**Problem:** Sort a list of numbers in-place descending (from high to low).\n",
    "\n",
    "**Inputs:** List of numbers.\n",
    "\n",
    "**Outputs:** None.\n",
    "\n",
    "**Algorithm:** "
   ]
  },
  {
   "cell_type": "code",
   "execution_count": 4,
   "metadata": {},
   "outputs": [
    {
     "name": "stdout",
     "output_type": "stream",
     "text": [
      "[93, 77, 55, 54, 44, 31, 26, 20, 17]\n"
     ]
    }
   ],
   "source": [
    "L = [54, 26, 93, 17, 77, 31, 44, 55, 20] # test list\n",
    "\n",
    "# write your code here (hint: use the bubble_sort() algorithm from the lectures)\n",
    "\n",
    "def swap(L,i,j):\n",
    "    temp = L[i] # save value at i\n",
    "    L[i] = L[j] # overwrite value at i with value at j\n",
    "    L[j] = temp # write original value at i to value at j\n",
    "\n",
    "def bubble_sort(L):\n",
    "    \"\"\" bubble sort\n",
    "    \n",
    "    Args:\n",
    "    \n",
    "        L (list): List of numbers\n",
    "        \n",
    "    \"\"\"\n",
    "    \n",
    "    for k in range(len(L)-1,0,-1):\n",
    "        for i in range(k):\n",
    "            if L[i] < L[i+1]:\n",
    "                swap(L,i,i+1)\n",
    "bubble_sort(L)\n",
    "print(L)"
   ]
  },
  {
   "cell_type": "markdown",
   "metadata": {},
   "source": [
    "**Answer:**"
   ]
  },
  {
   "cell_type": "code",
   "execution_count": 5,
   "metadata": {
    "jupyter": {
     "source_hidden": true
    }
   },
   "outputs": [
    {
     "name": "stdout",
     "output_type": "stream",
     "text": [
      "sorted [93, 77, 55, 54, 44, 31, 26, 20, 17]\n"
     ]
    }
   ],
   "source": [
    "def swap(L,i,j):\n",
    "    temp = L[i] # save value at i\n",
    "    L[i] = L[j] # overwrite value at i with value at j\n",
    "    L[j] = temp # write original value at i to value at j\n",
    "    \n",
    "def bubble_sort(L):   \n",
    "    for k in range(len(L)-1,0,-1):\n",
    "        for i in range(k):\n",
    "            if L[i] < L[i+1]:\n",
    "                swap(L,i,i+1)\n",
    "                \n",
    "bubble_sort(L)\n",
    "print('sorted',L)"
   ]
  },
  {
   "cell_type": "markdown",
   "metadata": {},
   "source": [
    "# Linear search for index"
   ]
  },
  {
   "cell_type": "markdown",
   "metadata": {},
   "source": [
    "**Problem:** Consider a number `x` and a sorted list of numbers `L`. Assume `L[0] <= x < L[-1]`. Find the index `i` such that `L[i] <= x < L[i+1]` using a linear search.\n",
    "\n",
    "**Inputs:** A sorted list of numbers `L` and a number `x`.\n",
    "    \n",
    "**Outputs:** Integer."
   ]
  },
  {
   "cell_type": "code",
   "execution_count": 6,
   "metadata": {},
   "outputs": [
    {
     "name": "stdout",
     "output_type": "stream",
     "text": [
      "3 gives the index 2\n",
      "43 appears to be larger than all elements of list\n"
     ]
    }
   ],
   "source": [
    "L = [0, 1, 2, 8, 13, 17, 19, 32, 42] # test list\n",
    "\n",
    "# write your code here (hint: use the linear_seach() algorithm from the lecture)\n",
    "\n",
    "def lin_search(L,x):\n",
    "    \n",
    "    text = f'{x} appears to be larger than all elements of list'\n",
    "    for i,l in enumerate(L):\n",
    "        if x <l:\n",
    "            text = f'{x} gives the index {i-1}'\n",
    "            break\n",
    "    if L[-1]==x:\n",
    "        text = f'{x} is the last element of list'\n",
    "    print(text)\n",
    "    \n",
    "\n",
    "lin_search(L,3)\n",
    "lin_search(L,43)"
   ]
  },
  {
   "cell_type": "markdown",
   "metadata": {},
   "source": [
    "**Answer:**"
   ]
  },
  {
   "cell_type": "code",
   "execution_count": 7,
   "metadata": {
    "jupyter": {
     "source_hidden": true
    }
   },
   "outputs": [
    {
     "name": "stdout",
     "output_type": "stream",
     "text": [
      "3 gives the index 2\n",
      "7 gives the index 2\n",
      "13 gives the index 4\n",
      "18 gives the index 5\n",
      "32 gives the index 7\n"
     ]
    }
   ],
   "source": [
    "def linear_search(L,x):\n",
    "    \n",
    "    # a. prep\n",
    "    i = 0\n",
    "    N = len(L)\n",
    "    found = False\n",
    "\n",
    "    # b. main\n",
    "    while i < N-1 and not found:\n",
    "        if x >= L[i] and x < L[i+1]: # comparison\n",
    "            found = True\n",
    "        else:\n",
    "            i += 1 # increment\n",
    "\n",
    "    # c. return\n",
    "    return i\n",
    "\n",
    "# test\n",
    "\n",
    "for x in [3,7,13,18,32]:\n",
    "    i = linear_search(L,x)\n",
    "    print(f'{x} gives the index {i}')\n",
    "    assert(x >= L[i] and x < L[i+1]),(x,i,L[i])"
   ]
  },
  {
   "cell_type": "markdown",
   "metadata": {},
   "source": [
    "# Bisection"
   ]
  },
  {
   "cell_type": "markdown",
   "metadata": {},
   "source": [
    "**Problem:** Find an (apporximate) solution to $f(x) = 0$ in the interval $[a,b]$ where $f(a)f(b) < 0$ (i.e. one is positive and the other is negative). \n",
    "\n",
    "> If $f$ is a *continuous* function then the intermediate value theorem ensures that a solution exists.\n",
    "\n",
    "**Inputs:** Function $f$, float interval $[a,b]$, float tolerance $\\epsilon > 0$.\n",
    "\n",
    "**Outputs:** Float.\n",
    "\n",
    "**Algorithm:** `bisection()`\n",
    "\n",
    "1. Set $a_0 = a$ and $b_0 = b$.\n",
    "\n",
    "2. Compute $f(m_0)$ where $m_0 = (a_0 + b_0)/2$ is the midpoint\n",
    "\n",
    "3. Determine the next sub-interval $[a_1,b_1]$:\n",
    "\n",
    "  i. If $f(a_0)f(m_0) < 0$ then $a_1 = a_0$ and $b_1 = m_0$\n",
    "\n",
    "  ii. If $f(m_0)f(b_0) < 0$ then $a_1 = m_0$ and $b_1 = b_0$\n",
    "\n",
    "4. Repeat step 2 and step 3 until $|f(m_n)| < \\epsilon$"
   ]
  },
  {
   "cell_type": "code",
   "execution_count": 8,
   "metadata": {},
   "outputs": [
    {
     "name": "stdout",
     "output_type": "stream",
     "text": [
      "result is 0.810 with f(0.810) = -0.00000000092777490023\n"
     ]
    }
   ],
   "source": [
    "f = lambda x: (2.1*x-1.7)*(x-3.3) # test function\n",
    "def bisection(f,a,b,tau):\n",
    "    # check that f(a)*f(b)<0\n",
    "    if f(a)*f(b)>0:\n",
    "        print('Error f(a)*f(b)>0!')\n",
    "        return None\n",
    "    \n",
    "    a0, b0, m = a,b,(a+b)/2\n",
    "    f_m = f(m)\n",
    "    \n",
    "    while np.abs(f_m)>tau:\n",
    "        if f(a0)*f_m<0:\n",
    "            b0=m\n",
    "        elif f(b0)*f_m<0:\n",
    "            a0=m\n",
    "        else:\n",
    "            print(\"bisection method has failed.\")\n",
    "            return None\n",
    "        m = (a0+b0)/2\n",
    "        f_m = f(m)\n",
    "    \n",
    "    return f'result is {m:.3f} with f({m:.3f}) = {f_m:.20f}'\n",
    "        \n",
    "        \n",
    "    \n",
    "    \n",
    "result = bisection(f,0,1,1e-8)\n",
    "print(result)"
   ]
  },
  {
   "cell_type": "markdown",
   "metadata": {},
   "source": [
    "**Answer:**"
   ]
  },
  {
   "cell_type": "code",
   "execution_count": 9,
   "metadata": {},
   "outputs": [
    {
     "name": "stdout",
     "output_type": "stream",
     "text": [
      "result is 0.810 with f(0.810) = -0.0000000009277749\n"
     ]
    }
   ],
   "source": [
    "def bisection(f,a,b,tol=1e-8):\n",
    "    \"\"\" bisection\n",
    "    \n",
    "    Solve equation f(x) = 0 for a <= x <= b.\n",
    "    \n",
    "    Args:\n",
    "    \n",
    "        f (function): function\n",
    "        a (float): left bound\n",
    "        b (float): right bound\n",
    "        tol (float): tolerance on solution\n",
    "        \n",
    "    Returns:\n",
    "    \n",
    "    \"\"\"\n",
    "    \n",
    "    # test inputs\n",
    "    if f(a)*f(b) >= 0:\n",
    "        print(\"bisection method fails.\")\n",
    "        return None\n",
    "    \n",
    "    # step 1: initialize\n",
    "    a_n = a\n",
    "    b_n = b\n",
    "    \n",
    "    # step 2-4:\n",
    "    while True:\n",
    "        \n",
    "        # step 2: midpoint and associated value\n",
    "        m_n = (a_n+b_n)/2\n",
    "        f_m_n = f(m_n)\n",
    "        \n",
    "        # step 3: determine sub-interval\n",
    "        if abs(f_m_n) < tol:\n",
    "            return m_n\n",
    "        elif f(a_n)*f_m_n < 0:\n",
    "            a_n = a_n\n",
    "            b_n = m_n\n",
    "        elif f(b_n)*f_m_n < 0:\n",
    "            a_n = m_n\n",
    "            b_n = b_n\n",
    "        else:\n",
    "            print(\"bisection method fails.\")\n",
    "            return None\n",
    "        \n",
    "    return (a_n + b_n)/2\n",
    "\n",
    "result = bisection(f,0,1,1e-8)\n",
    "print(f'result is {result:.3f} with f({result:.3f}) = {f(result):.16f}')"
   ]
  },
  {
   "cell_type": "markdown",
   "metadata": {},
   "source": [
    "# Find prime numbers"
   ]
  },
  {
   "cell_type": "markdown",
   "metadata": {},
   "source": [
    "**Goal:** Implement a function in Python for the sieve of Eratosthenes.\n",
    "\n",
    "The **sieve of Eratosthenes** is a simple algorithm for finding all prime numbers up to a specified integer. It was created by the ancient Greek mathematician Eratosthenes. The algorithm to find all the prime numbers less than or equal to a given integer $n$.\n",
    "\n",
    "**Algorithm:** `sieve_()`\n",
    "\n",
    "1. Create a list of integers from $2$ to $n$: $2, 3, 4, ..., n$ (all potentially primes)\n",
    "\n",
    "    `primes = list(range(2,n+1))`\n",
    "\n",
    "2. Start with a counter $i$ set to $2$, i.e. the first prime number\n",
    "\n",
    "3. Starting from $i+i$, count up by $i$ and remove those numbers from the list, i.e. $2i$, $3i$, $4i$ etc.\n",
    "\n",
    "    `primes.remove(i)`\n",
    "    \n",
    "4. Find the first number of the list following $i$. This is the next prime number.\n",
    "\n",
    "5. Set $i$ to the number found in the previous step.\n",
    "\n",
    "6. Repeat steps 3-5 until $i$ is greater than $\\sqrt {n}$.\n",
    "7. All the numbers, which are still in the list, are prime numbers."
   ]
  },
  {
   "cell_type": "markdown",
   "metadata": {},
   "source": [
    "A good explanation of the sieve of Eratosthenes: https://www.youtube.com/watch?v=klcIklsWzrY&feature=youtu.be"
   ]
  },
  {
   "cell_type": "code",
   "execution_count": 10,
   "metadata": {},
   "outputs": [
    {
     "name": "stdout",
     "output_type": "stream",
     "text": [
      "[4, 6, 8, 10, 12, 14, 16, 18, 20, 22, 24, 26, 28, 30, 32, 34, 36, 38, 40, 42, 44, 46, 48, 50, 52, 54, 56, 58, 60, 62, 64, 66, 68, 70, 72, 74, 76, 78, 80, 82, 84, 86, 88, 90, 92, 94, 96, 98]\n"
     ]
    }
   ],
   "source": [
    "print(list(range(4,100,2)))"
   ]
  },
  {
   "cell_type": "code",
   "execution_count": 11,
   "metadata": {},
   "outputs": [
    {
     "name": "stdout",
     "output_type": "stream",
     "text": [
      "[2, 3, 5, 7, 11, 13, 17, 19, 23, 29, 31, 37, 41, 43, 47, 53, 59, 61, 67, 71, 73, 79, 83, 89, 97]\n"
     ]
    }
   ],
   "source": [
    "def sieve(n):\n",
    "    primes = list(range(2,n+1))\n",
    "    index = 0\n",
    "    i =primes[index]\n",
    "    while i<math.sqrt(n):\n",
    "        for j in range(i+i,n+1,i):\n",
    "            if j in primes:\n",
    "                primes.remove(j)\n",
    "        index+=1\n",
    "        i = primes[index]\n",
    "    \n",
    "    return primes\n",
    "\n",
    "print(sieve(100))"
   ]
  },
  {
   "cell_type": "code",
   "execution_count": 12,
   "metadata": {},
   "outputs": [
    {
     "name": "stdout",
     "output_type": "stream",
     "text": [
      "[2, 3, 5, 7, 11, 13, 17, 19, 23, 29, 31, 37, 41, 43, 47, 53, 59, 61, 67, 71, 73, 79, 83, 89, 97]\n"
     ]
    }
   ],
   "source": [
    "# A slightly different more complex method, but using the same logic: \n",
    "\n",
    "def primes(n):\n",
    "    if n<2:\n",
    "        return []\n",
    "    sieve=[True]*(n+1)\n",
    "    for x in range(3,int(n**0.5)+1,2):\n",
    "        for y in range(3,(n//x)+1,2):\n",
    "            sieve[(x*y)]=False\n",
    "\n",
    "    return [2]+[i for i in range(3,n+1,2) if sieve[i]]\n",
    "print(primes(100))"
   ]
  },
  {
   "cell_type": "markdown",
   "metadata": {},
   "source": [
    "__I'll time the different approaches to check the speed__"
   ]
  },
  {
   "cell_type": "code",
   "execution_count": 13,
   "metadata": {},
   "outputs": [],
   "source": [
    "import time"
   ]
  },
  {
   "cell_type": "code",
   "execution_count": 14,
   "metadata": {},
   "outputs": [
    {
     "name": "stdout",
     "output_type": "stream",
     "text": [
      "CPU times: user 13.7 ms, sys: 2.73 ms, total: 16.4 ms\n",
      "Wall time: 16.7 ms\n"
     ]
    }
   ],
   "source": [
    "%%time\n",
    "primes_list = sieve(1000)"
   ]
  },
  {
   "cell_type": "code",
   "execution_count": 15,
   "metadata": {},
   "outputs": [
    {
     "name": "stdout",
     "output_type": "stream",
     "text": [
      "CPU times: user 229 µs, sys: 15 µs, total: 244 µs\n",
      "Wall time: 253 µs\n"
     ]
    }
   ],
   "source": [
    "%%time\n",
    "primes_list = primes(1000)"
   ]
  },
  {
   "cell_type": "markdown",
   "metadata": {},
   "source": [
    "Much faster "
   ]
  },
  {
   "cell_type": "code",
   "execution_count": 16,
   "metadata": {},
   "outputs": [],
   "source": [
    "#A lot faster actually\n",
    "%load_ext line_profiler\n",
    "%load_ext memory_profiler"
   ]
  },
  {
   "cell_type": "code",
   "execution_count": 17,
   "metadata": {},
   "outputs": [
    {
     "data": {
      "text/plain": [
       "Timer unit: 1e-06 s\n",
       "\n",
       "Total time: 1.19559 s\n",
       "File: <ipython-input-11-16fe3aaec872>\n",
       "Function: sieve at line 1\n",
       "\n",
       "Line #      Hits         Time  Per Hit   % Time  Line Contents\n",
       "==============================================================\n",
       "     1                                           def sieve(n):\n",
       "     2         1        630.0    630.0      0.1      primes = list(range(2,n+1))\n",
       "     3         1          3.0      3.0      0.0      index = 0\n",
       "     4         1          1.0      1.0      0.0      i =primes[index]\n",
       "     5        26        198.0      7.6      0.0      while i<math.sqrt(n):\n",
       "     6     18016      17536.0      1.0      1.5          for j in range(i+i,n+1,i):\n",
       "     7     17991     817945.0     45.5     68.4              if j in primes:\n",
       "     8      8770     359216.0     41.0     30.0                  primes.remove(j)\n",
       "     9        25         32.0      1.3      0.0          index+=1\n",
       "    10        25         29.0      1.2      0.0          i = primes[index]\n",
       "    11                                               \n",
       "    12         1          1.0      1.0      0.0      return primes"
      ]
     },
     "metadata": {},
     "output_type": "display_data"
    }
   ],
   "source": [
    "%lprun -f sieve sieve(10000)"
   ]
  },
  {
   "cell_type": "code",
   "execution_count": 18,
   "metadata": {},
   "outputs": [
    {
     "data": {
      "text/plain": [
       "Timer unit: 1e-06 s\n",
       "\n",
       "Total time: 0.019662 s\n",
       "File: <ipython-input-12-555bad0209cf>\n",
       "Function: primes at line 3\n",
       "\n",
       "Line #      Hits         Time  Per Hit   % Time  Line Contents\n",
       "==============================================================\n",
       "     3                                           def primes(n):\n",
       "     4         1          2.0      2.0      0.0      if n<2:\n",
       "     5                                                   return []\n",
       "     6         1         62.0     62.0      0.3      sieve=[True]*(n+1)\n",
       "     7        50         38.0      0.8      0.2      for x in range(3,int(n**0.5)+1,2):\n",
       "     8      9688       8614.0      0.9     43.8          for y in range(3,(n//x)+1,2):\n",
       "     9      9639       9399.0      1.0     47.8              sieve[(x*y)]=False\n",
       "    10                                           \n",
       "    11         1       1547.0   1547.0      7.9      return [2]+[i for i in range(3,n+1,2) if sieve[i]]"
      ]
     },
     "metadata": {},
     "output_type": "display_data"
    }
   ],
   "source": [
    "%lprun -f primes primes(10000)"
   ]
  },
  {
   "cell_type": "markdown",
   "metadata": {},
   "source": [
    "This seems to be because: if j in primes -condition and .remove()-method are just much slower per hit"
   ]
  },
  {
   "cell_type": "markdown",
   "metadata": {},
   "source": [
    "**Answer:**"
   ]
  },
  {
   "cell_type": "code",
   "execution_count": 19,
   "metadata": {},
   "outputs": [
    {
     "name": "stdout",
     "output_type": "stream",
     "text": [
      "primes from 2 to 100: [2, 3, 5, 7, 11, 13, 17, 19, 23, 29, 31, 37, 41, 43, 47, 53, 59, 61, 67, 71, 73, 79, 83, 89, 97]\n"
     ]
    }
   ],
   "source": [
    "def sieve(n):\n",
    "    \"\"\" sieve of Eratosthenes\n",
    "    \n",
    "    Return all primes between 2 and n.\n",
    "    \n",
    "    Args:\n",
    "    \n",
    "        n (integer): maximum number to consider\n",
    "    \n",
    "    \"\"\"\n",
    "    \n",
    "    # a. step 1: create list of potential primes\n",
    "    primes = list(range(2,n+1))\n",
    "    \n",
    "    # b. step 2: initialize i\n",
    "    index = 0\n",
    "    i = primes[index]\n",
    "    \n",
    "    # c. step 3-6\n",
    "    while i < math.sqrt(n):\n",
    "            \n",
    "        # step 3: remove\n",
    "        k = i\n",
    "        while i <= n:\n",
    "            i += k\n",
    "            if i in primes:\n",
    "                primes.remove(i)\n",
    "             \n",
    "        # step 4: next number\n",
    "        index += 1\n",
    "        \n",
    "        # step 5: set i\n",
    "        i = primes[index]\n",
    "        \n",
    "    return primes\n",
    "\n",
    "print('primes from 2 to 100:',sieve(100))"
   ]
  },
  {
   "cell_type": "code",
   "execution_count": 23,
   "metadata": {},
   "outputs": [
    {
     "name": "stdout",
     "output_type": "stream",
     "text": [
      "CPU times: user 13.8 ms, sys: 1.21 ms, total: 15 ms\n",
      "Wall time: 17.9 ms\n"
     ]
    }
   ],
   "source": [
    "%%time\n",
    "p_list = sieve(1000)"
   ]
  },
  {
   "cell_type": "code",
   "execution_count": null,
   "metadata": {},
   "outputs": [],
   "source": []
  }
 ],
 "metadata": {
  "kernelspec": {
   "display_name": "Python 3",
   "language": "python",
   "name": "python3"
  },
  "language_info": {
   "codemirror_mode": {
    "name": "ipython",
    "version": 3
   },
   "file_extension": ".py",
   "mimetype": "text/x-python",
   "name": "python",
   "nbconvert_exporter": "python",
   "pygments_lexer": "ipython3",
   "version": "3.7.4"
  },
  "toc-autonumbering": true
 },
 "nbformat": 4,
 "nbformat_minor": 4
}
